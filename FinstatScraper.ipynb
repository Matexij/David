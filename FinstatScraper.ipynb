{
 "cells": [
  {
   "cell_type": "code",
   "execution_count": 8,
   "id": "bc908b48-a7d2-4858-8440-5270eabe432a",
   "metadata": {},
   "outputs": [],
   "source": [
    "import requests\n",
    "from bs4 import BeautifulSoup\n",
    "import pandas as pd\n",
    "from IPython.display import clear_output\n",
    "from urllib.parse import quote"
   ]
  },
  {
   "cell_type": "code",
   "execution_count": 25,
   "id": "e1a25679-ed39-4101-9177-dafa84425776",
   "metadata": {},
   "outputs": [],
   "source": [
    "# Define the base URL\n",
    "base_url = \"https://finstat.sk/databaza-financnych-udajov?Sort=sales&page={}&Activity=zdravotn%C3%ADctvo\"\n"
   ]
  },
  {
   "cell_type": "code",
   "execution_count": 26,
   "id": "314f47b5-d2e6-432e-a89d-0335c8c53880",
   "metadata": {},
   "outputs": [],
   "source": [
    "# Function to scrape a single page\n",
    "def scrape_page(page_number):\n",
    "    url = base_url.format(page_number)\n",
    "    response = requests.get(url)\n",
    "    soup = BeautifulSoup(response.text, 'html.parser')\n",
    "    table = soup.find('table', class_='table table-condensed table-striped data-table-main')\n",
    "    \n",
    "    # Extract header\n",
    "    headers = [header.text.strip() for header in table.find('thead').find_all('th')]\n",
    "    # Insert new header for href column\n",
    "    if 'Názov' in headers:\n",
    "        headers.insert(headers.index('Názov') + 1, 'URL')\n",
    "    \n",
    "    # Extract rows\n",
    "    rows = []\n",
    "    for row in table.find('tbody').find_all('tr'):\n",
    "        cells = row.find_all('td')\n",
    "        row_data = []\n",
    "        for idx, cell in enumerate(cells):\n",
    "            if idx == 0:  # First column\n",
    "                company_link = cell.find('a', href=True)\n",
    "                company_name = company_link.text.strip()\n",
    "                company_href = int(company_link['href'][1:])  # Remove first char and convert to int\n",
    "                badge_div = cell.find('span', class_='badge badge-xs badge-outline-red m-r-xs')\n",
    "                badge_text = badge_div.text.strip() if badge_div else ''\n",
    "                row_data.append(company_name + (' ' + badge_text if badge_text else ''))\n",
    "                row_data.append(company_href)\n",
    "            else:\n",
    "                row_data.append(cell.text.strip())\n",
    "        rows.append(row_data)\n",
    "    \n",
    "    return headers, rows"
   ]
  },
  {
   "cell_type": "code",
   "execution_count": 27,
   "id": "ac8d4c44-b83d-48f3-a5ea-1fe61f9263fd",
   "metadata": {},
   "outputs": [
    {
     "name": "stdout",
     "output_type": "stream",
     "text": [
      "Scraped page 626/626\n"
     ]
    }
   ],
   "source": [
    "# Initialize list to store all rows\n",
    "all_rows = []\n",
    "page_limit = 626\n",
    "\n",
    "# Iterate over each page\n",
    "for page in range(1, page_limit + 1):\n",
    "    headers, rows = scrape_page(page)\n",
    "    all_rows.extend(rows)\n",
    "    clear_output(wait=True)\n",
    "    print(f\"Scraped page {page}/{page_limit}\")\n",
    "\n",
    "# Create a DataFrame and save to CSV\n",
    "df = pd.DataFrame(all_rows, columns=headers)"
   ]
  },
  {
   "cell_type": "code",
   "execution_count": 38,
   "id": "7037e336-7d92-45a0-aafc-627f7ac12468",
   "metadata": {},
   "outputs": [],
   "source": [
    "# Filter the DataFrame for rows where 'Nazov' contains \"zrusena\"\n",
    "df_filter = df[~df['Názov'].str.contains(\"zrušená\", case=False, na=False)]\n",
    "df_filter = df_filter[df_filter['Názov'].str.contains(\"s.r.o.|s. r. o.|a.s.|a. s.\", case=False, na=False)]\n",
    "# Filter the data for 'Rok' column (year) for 2021 and younger\n",
    "df_filter = df_filter[df_filter['Rok'].astype(int) <= 2021]\n",
    "# Filter out rows with \"v likvidácii\" or \"v konkurze\" in the 'Company' column\n",
    "df_filter = df_filter[~df_filter['Názov'].str.contains(\"v likvidácii|v konkurze|n.o.\", case=False, na=False)]\n",
    "# Convert 'Tržby' column to numeric, removing ' €' and filtering out values bigger than 5000\n",
    "df_filter['Tržby'] = df_filter['Tržby'].str.replace('\\xa0', '').str.replace(' €', '').str.replace(' ', '').astype(float)\n",
    "df_filter = df_filter[df_filter['Tržby'] <= 20000]"
   ]
  },
  {
   "cell_type": "code",
   "execution_count": 39,
   "id": "00d71ef6-9006-42d7-a788-f1e5fcac177f",
   "metadata": {},
   "outputs": [],
   "source": [
    "# Function to get \"Predmet podnikania (činnosti)\" from the website using href as ID\n",
    "def get_cinnosti(company_name):\n",
    "    # Prepare the search URL\n",
    "    # Truncate company name to 35 characters if it exceeds that length\n",
    "    truncated_name = company_name[:35]\n",
    "    \n",
    "    # Encode the truncated company name using iso-8859-1 encoding\n",
    "    encoded_name = truncated_name.encode('Windows-1250')\n",
    "    search_name = quote(encoded_name).replace('%20', '+')\n",
    "    \n",
    "    search_url = f\"https://www.orsr.sk/hladaj_subjekt.asp?OBMENO={search_name}\"\n",
    "     # Make the request to the search URL\n",
    "    response = requests.get(search_url)\n",
    "    soup = BeautifulSoup(response.text, 'html.parser')\n",
    "    \n",
    "    # Find the first href link in the div with class 'bmk'\n",
    "    bmk_div = soup.find('div', class_='bmk')\n",
    "    if not bmk_div:\n",
    "        return None\n",
    "    \n",
    "    first_link = bmk_div.find('a', href=True)\n",
    "    if not first_link:\n",
    "        return None\n",
    "    \n",
    "    # Construct the new URL from the href\n",
    "    url = f\"https://www.orsr.sk/{first_link['href']}\"\n",
    "\n",
    "    response = requests.get(url)\n",
    "    soup = BeautifulSoup(response.text, 'html.parser')\n",
    "\n",
    "    # Find the table row containing \"Predmet podnikania (činnosti)\" substring\n",
    "    def contains_text(tag):\n",
    "        return tag.name == 'td' and \"Predmet podnikania\" in tag.text\n",
    "    \n",
    "    target_row = soup.find(contains_text)\n",
    "    if target_row:\n",
    "        next_td = target_row.find_next_sibling('td')\n",
    "        if next_td and \"Výskum a vývoj\" in next_td.text:\n",
    "            return next_td.text.strip()\n",
    "    return None"
   ]
  },
  {
   "cell_type": "code",
   "execution_count": 41,
   "id": "3799343c-f127-4ba9-9ec0-f6766ee11a97",
   "metadata": {},
   "outputs": [
    {
     "name": "stdout",
     "output_type": "stream",
     "text": [
      "Processed 118/118 rows...\n"
     ]
    }
   ],
   "source": [
    "# Add a new column for \"cinnosti\"\n",
    "print(\"Starting to apply get_cinnosti function...\")\n",
    "\n",
    "total_rows = df_filter.shape[0]\n",
    "j=1\n",
    "for i, row in df_filter.iterrows():\n",
    "    company_name = row['Názov']\n",
    "    print(str(j) +\": \"+ company_name)\n",
    "    cinnosti = get_cinnosti(company_name)\n",
    "    df_filter.at[i, 'cinnosti'] = cinnosti\n",
    "    clear_output(wait=True)\n",
    "    print(f\"Processed {j}/{total_rows} rows...\")\n",
    "    j+=1"
   ]
  },
  {
   "cell_type": "code",
   "execution_count": 42,
   "id": "1fad0aa2-9cc3-48c4-b363-481af433256c",
   "metadata": {},
   "outputs": [
    {
     "data": {
      "text/html": [
       "<div>\n",
       "<style scoped>\n",
       "    .dataframe tbody tr th:only-of-type {\n",
       "        vertical-align: middle;\n",
       "    }\n",
       "\n",
       "    .dataframe tbody tr th {\n",
       "        vertical-align: top;\n",
       "    }\n",
       "\n",
       "    .dataframe thead th {\n",
       "        text-align: right;\n",
       "    }\n",
       "</style>\n",
       "<table border=\"1\" class=\"dataframe\">\n",
       "  <thead>\n",
       "    <tr style=\"text-align: right;\">\n",
       "      <th></th>\n",
       "      <th>Názov</th>\n",
       "      <th>URL</th>\n",
       "      <th>Rok</th>\n",
       "      <th>Tržby</th>\n",
       "      <th>Zisk</th>\n",
       "      <th>Aktíva</th>\n",
       "      <th>Splatná daň</th>\n",
       "      <th>Zverejnené</th>\n",
       "      <th>cinnosti</th>\n",
       "    </tr>\n",
       "  </thead>\n",
       "  <tbody>\n",
       "    <tr>\n",
       "      <th>867</th>\n",
       "      <td>AmazonDent, s.r.o.</td>\n",
       "      <td>51802571</td>\n",
       "      <td>2018</td>\n",
       "      <td>0.0</td>\n",
       "      <td>-2 261 €</td>\n",
       "      <td>16 913 €</td>\n",
       "      <td>-</td>\n",
       "      <td>23.3.2019</td>\n",
       "      <td>Výkon èinnosti odborného zástupcu v povolaní z...</td>\n",
       "    </tr>\n",
       "    <tr>\n",
       "      <th>1448</th>\n",
       "      <td>PSYCHOSANA s.r.o.</td>\n",
       "      <td>50028367</td>\n",
       "      <td>2019</td>\n",
       "      <td>0.0</td>\n",
       "      <td>0 €</td>\n",
       "      <td>145 €</td>\n",
       "      <td>-</td>\n",
       "      <td>5.11.2020</td>\n",
       "      <td>Kúpa tovaru na úèely jeho predaja koneènému sp...</td>\n",
       "    </tr>\n",
       "    <tr>\n",
       "      <th>1846</th>\n",
       "      <td>Prodental Dental Clinic s.r.o.</td>\n",
       "      <td>50727184</td>\n",
       "      <td>2021</td>\n",
       "      <td>8547.0</td>\n",
       "      <td>-132 017 €</td>\n",
       "      <td>330 173 €</td>\n",
       "      <td>-</td>\n",
       "      <td>5.7.2022</td>\n",
       "      <td>Ininierska èinnos, stavebné cenárstvo, proje...</td>\n",
       "    </tr>\n",
       "  </tbody>\n",
       "</table>\n",
       "</div>"
      ],
      "text/plain": [
       "                               Názov       URL   Rok   Tržby        Zisk  \\\n",
       "867               AmazonDent, s.r.o.  51802571  2018     0.0    -2 261 €   \n",
       "1448               PSYCHOSANA s.r.o.  50028367  2019     0.0         0 €   \n",
       "1846  Prodental Dental Clinic s.r.o.  50727184  2021  8547.0  -132 017 €   \n",
       "\n",
       "         Aktíva Splatná daň Zverejnené  \\\n",
       "867    16 913 €           -  23.3.2019   \n",
       "1448      145 €           -  5.11.2020   \n",
       "1846  330 173 €           -   5.7.2022   \n",
       "\n",
       "                                               cinnosti  \n",
       "867   Výkon èinnosti odborného zástupcu v povolaní z...  \n",
       "1448  Kúpa tovaru na úèely jeho predaja koneènému sp...  \n",
       "1846  Ininierska èinnos, stavebné cenárstvo, proje...  "
      ]
     },
     "execution_count": 42,
     "metadata": {},
     "output_type": "execute_result"
    }
   ],
   "source": [
    "# Remove rows where \"cinnosti\" is None\n",
    "df_none = df_filter.dropna(subset=['cinnosti'])\n",
    "df_none"
   ]
  },
  {
   "cell_type": "code",
   "execution_count": null,
   "id": "2df2fd21-ad64-493f-9cce-ceddd1b8869d",
   "metadata": {},
   "outputs": [],
   "source": [
    "df_filter"
   ]
  },
  {
   "cell_type": "code",
   "execution_count": null,
   "id": "c7db27a7-75ae-4cd9-a5ae-6ea107cf1c6e",
   "metadata": {},
   "outputs": [],
   "source": [
    "df.to_csv('finstat_data.csv', index=False)\n",
    "\n",
    "print(\"Scraping completed and data saved to finstat_data.csv\")"
   ]
  }
 ],
 "metadata": {
  "kernelspec": {
   "display_name": "Python 3 (ipykernel)",
   "language": "python",
   "name": "python3"
  },
  "language_info": {
   "codemirror_mode": {
    "name": "ipython",
    "version": 3
   },
   "file_extension": ".py",
   "mimetype": "text/x-python",
   "name": "python",
   "nbconvert_exporter": "python",
   "pygments_lexer": "ipython3",
   "version": "3.12.4"
  }
 },
 "nbformat": 4,
 "nbformat_minor": 5
}
